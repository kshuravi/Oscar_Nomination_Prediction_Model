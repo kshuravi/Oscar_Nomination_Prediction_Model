{
  "nbformat": 4,
  "nbformat_minor": 0,
  "metadata": {
    "colab": {
      "name": "Oscar_Nomination_Prediction.ipynb",
      "provenance": [],
      "collapsed_sections": [],
      "authorship_tag": "ABX9TyNWE6J96IXI0xAt9tLMAKEu",
      "include_colab_link": true
    },
    "kernelspec": {
      "name": "python3",
      "display_name": "Python 3"
    },
    "language_info": {
      "name": "python"
    }
  },
  "cells": [
    {
      "cell_type": "markdown",
      "metadata": {
        "id": "view-in-github",
        "colab_type": "text"
      },
      "source": [
        "<a href=\"https://colab.research.google.com/github/kshuravi/Oscar_Nomination_Prediction_Model/blob/main/Oscar_Nomination_Prediction.ipynb\" target=\"_parent\"><img src=\"https://colab.research.google.com/assets/colab-badge.svg\" alt=\"Open In Colab\"/></a>"
      ]
    },
    {
      "cell_type": "markdown",
      "metadata": {
        "id": "vj8Ta5O41scQ"
      },
      "source": [
        "## Introduction"
      ]
    },
    {
      "cell_type": "markdown",
      "metadata": {
        "id": "tQ0fK5Tu1r40"
      },
      "source": [
        "This is an extension of my another Project: Marvel vs DC Films EDA, which was based on webscraping of tables and doing analysis of them. I will be using the same websites to fetch those tables and merge more tables with them to do some prediction analysis.\n",
        "\n",
        "The goal here is to analyze data from the details on live action films based on DC Comics and Marvel Comics publications. I have scraped six different tables and merged all of them to **predict whether** **high rated films always have high probability to achieve at least one Oscar nomination**. I have chosen Rotten Tomatoes for Rating."
      ]
    },
    {
      "cell_type": "markdown",
      "metadata": {
        "id": "ys-cvqIA6c4m"
      },
      "source": [
        "## Importing necessary Libraries"
      ]
    },
    {
      "cell_type": "code",
      "metadata": {
        "id": "0Z2rwqUC1PTy"
      },
      "source": [
        "import urllib.request\n",
        "import pandas as pd\n",
        "import numpy as np\n",
        "import seaborn as sns\n",
        "import re\n",
        "from pandas import DataFrame\n",
        "import matplotlib.pyplot as plt\n",
        "sns.set()\n",
        "%matplotlib inline\n",
        "from sklearn.preprocessing import StandardScaler\n",
        "from imblearn.over_sampling import RandomOverSampler\n",
        "from collections import Counter\n",
        "from sklearn.model_selection import train_test_split\n",
        "from sklearn import metrics\n",
        "from sklearn.metrics import classification_report, confusion_matrix, accuracy_score\n",
        "from sklearn.linear_model import LogisticRegression\n",
        "from sklearn.tree import DecisionTreeClassifier\n",
        "from sklearn.ensemble import RandomForestClassifier"
      ],
      "execution_count": null,
      "outputs": []
    },
    {
      "cell_type": "markdown",
      "metadata": {
        "id": "i87ghe9_1qvu"
      },
      "source": [
        "## Scraping, cleaning and merging all tables"
      ]
    },
    {
      "cell_type": "markdown",
      "metadata": {
        "id": "v5TYpB_R6uc9"
      },
      "source": [
        "The following tables have been scraped from **List of films based on Marvel Comics publications** on wikipedia and cleaned in the same cell."
      ]
    },
    {
      "cell_type": "code",
      "metadata": {
        "id": "XvWFsTei1SyI"
      },
      "source": [
        "df1 = pd.read_html(\"https://en.wikipedia.org/wiki/List_of_films_based_on_Marvel_Comics_publications\")"
      ],
      "execution_count": null,
      "outputs": []
    },
    {
      "cell_type": "code",
      "metadata": {
        "id": "Bcdwsq4hDFXt",
        "colab": {
          "base_uri": "https://localhost:8080/",
          "height": 198
        },
        "outputId": "c50d838a-2d88-42f2-9728-4c2f3e9a269f"
      },
      "source": [
        "mf = df1[0].drop(['Unnamed: 4'], axis=1)[:59]\n",
        "mf.tail()"
      ],
      "execution_count": null,
      "outputs": [
        {
          "output_type": "execute_result",
          "data": {
            "text/html": [
              "<div>\n",
              "<style scoped>\n",
              "    .dataframe tbody tr th:only-of-type {\n",
              "        vertical-align: middle;\n",
              "    }\n",
              "\n",
              "    .dataframe tbody tr th {\n",
              "        vertical-align: top;\n",
              "    }\n",
              "\n",
              "    .dataframe thead th {\n",
              "        text-align: right;\n",
              "    }\n",
              "</style>\n",
              "<table border=\"1\" class=\"dataframe\">\n",
              "  <thead>\n",
              "    <tr style=\"text-align: right;\">\n",
              "      <th></th>\n",
              "      <th>Year</th>\n",
              "      <th>Title</th>\n",
              "      <th>Production studio(s)</th>\n",
              "      <th>Notes</th>\n",
              "    </tr>\n",
              "  </thead>\n",
              "  <tbody>\n",
              "    <tr>\n",
              "      <th>54</th>\n",
              "      <td>2018</td>\n",
              "      <td>Venom</td>\n",
              "      <td>Columbia Pictures</td>\n",
              "      <td>NaN</td>\n",
              "    </tr>\n",
              "    <tr>\n",
              "      <th>55</th>\n",
              "      <td>2019</td>\n",
              "      <td>Captain Marvel</td>\n",
              "      <td>Marvel Studios</td>\n",
              "      <td>NaN</td>\n",
              "    </tr>\n",
              "    <tr>\n",
              "      <th>56</th>\n",
              "      <td>2019</td>\n",
              "      <td>Avengers: Endgame</td>\n",
              "      <td>Marvel Studios</td>\n",
              "      <td>Nominated for 1 Oscar</td>\n",
              "    </tr>\n",
              "    <tr>\n",
              "      <th>57</th>\n",
              "      <td>2019</td>\n",
              "      <td>Dark Phoenix</td>\n",
              "      <td>20th Century Fox</td>\n",
              "      <td>NaN</td>\n",
              "    </tr>\n",
              "    <tr>\n",
              "      <th>58</th>\n",
              "      <td>2019</td>\n",
              "      <td>Spider-Man: Far From Home</td>\n",
              "      <td>Columbia Pictures /Marvel Studios</td>\n",
              "      <td>Distributed by Sony Pictures</td>\n",
              "    </tr>\n",
              "  </tbody>\n",
              "</table>\n",
              "</div>"
            ],
            "text/plain": [
              "    Year  ...                         Notes\n",
              "54  2018  ...                           NaN\n",
              "55  2019  ...                           NaN\n",
              "56  2019  ...         Nominated for 1 Oscar\n",
              "57  2019  ...                           NaN\n",
              "58  2019  ...  Distributed by Sony Pictures\n",
              "\n",
              "[5 rows x 4 columns]"
            ]
          },
          "metadata": {
            "tags": []
          },
          "execution_count": 260
        }
      ]
    },
    {
      "cell_type": "code",
      "metadata": {
        "id": "5TNcP1Us8-oI",
        "colab": {
          "base_uri": "https://localhost:8080/",
          "height": 198
        },
        "outputId": "a69ec032-fbe7-4a97-f8df-0a57bfbb448e"
      },
      "source": [
        "mb = df1[14][:58]\n",
        "columns_mb1 = ['Title', 'Distributor',\t'Release_date_US', 'Bud­get_mil­lions',\t'Opening_weekend_North_America',\t'North_America',\t'Other_territories', 'Worldwide']\n",
        "mb.columns = columns_mb1\n",
        "mb.tail()"
      ],
      "execution_count": null,
      "outputs": [
        {
          "output_type": "execute_result",
          "data": {
            "text/html": [
              "<div>\n",
              "<style scoped>\n",
              "    .dataframe tbody tr th:only-of-type {\n",
              "        vertical-align: middle;\n",
              "    }\n",
              "\n",
              "    .dataframe tbody tr th {\n",
              "        vertical-align: top;\n",
              "    }\n",
              "\n",
              "    .dataframe thead th {\n",
              "        text-align: right;\n",
              "    }\n",
              "</style>\n",
              "<table border=\"1\" class=\"dataframe\">\n",
              "  <thead>\n",
              "    <tr style=\"text-align: right;\">\n",
              "      <th></th>\n",
              "      <th>Title</th>\n",
              "      <th>Distributor</th>\n",
              "      <th>Release_date_US</th>\n",
              "      <th>Bud­get_mil­lions</th>\n",
              "      <th>Opening_weekend_North_America</th>\n",
              "      <th>North_America</th>\n",
              "      <th>Other_territories</th>\n",
              "      <th>Worldwide</th>\n",
              "    </tr>\n",
              "  </thead>\n",
              "  <tbody>\n",
              "    <tr>\n",
              "      <th>53</th>\n",
              "      <td>Spider-Man: Into the Spider-Verse</td>\n",
              "      <td>Sony Pictures</td>\n",
              "      <td>December 14, 2018</td>\n",
              "      <td>$90</td>\n",
              "      <td>$35,363,376</td>\n",
              "      <td>$190,241,310</td>\n",
              "      <td>$185,299,521</td>\n",
              "      <td>$375,540,831</td>\n",
              "    </tr>\n",
              "    <tr>\n",
              "      <th>54</th>\n",
              "      <td>Captain Marvel</td>\n",
              "      <td>Walt Disney Studios Motion Pictures</td>\n",
              "      <td>March 8, 2019</td>\n",
              "      <td>$152</td>\n",
              "      <td>$153,433,423</td>\n",
              "      <td>$426,829,839</td>\n",
              "      <td>$701,444,955</td>\n",
              "      <td>$1,128,274,794</td>\n",
              "    </tr>\n",
              "    <tr>\n",
              "      <th>55</th>\n",
              "      <td>Avengers: Endgame</td>\n",
              "      <td>Walt Disney Studios Motion Pictures</td>\n",
              "      <td>April 26, 2019</td>\n",
              "      <td>$356</td>\n",
              "      <td>$357,115,007</td>\n",
              "      <td>$858,373,000</td>\n",
              "      <td>$1,937,901,401</td>\n",
              "      <td>$2,797,800,564</td>\n",
              "    </tr>\n",
              "    <tr>\n",
              "      <th>56</th>\n",
              "      <td>Dark Phoenix</td>\n",
              "      <td>20th Century Fox</td>\n",
              "      <td>June 7, 2019</td>\n",
              "      <td>$200</td>\n",
              "      <td>$32,828,348</td>\n",
              "      <td>$65,845,974</td>\n",
              "      <td>$186,597,000</td>\n",
              "      <td>$252,442,974</td>\n",
              "    </tr>\n",
              "    <tr>\n",
              "      <th>57</th>\n",
              "      <td>Spider-Man: Far From Home</td>\n",
              "      <td>Sony Pictures</td>\n",
              "      <td>July 2, 2019</td>\n",
              "      <td>$160</td>\n",
              "      <td>$92,579,212</td>\n",
              "      <td>$390,532,085</td>\n",
              "      <td>$741,395,911</td>\n",
              "      <td>$1,131,927,996</td>\n",
              "    </tr>\n",
              "  </tbody>\n",
              "</table>\n",
              "</div>"
            ],
            "text/plain": [
              "                                Title  ...       Worldwide\n",
              "53  Spider-Man: Into the Spider-Verse  ...    $375,540,831\n",
              "54                     Captain Marvel  ...  $1,128,274,794\n",
              "55                  Avengers: Endgame  ...  $2,797,800,564\n",
              "56                       Dark Phoenix  ...    $252,442,974\n",
              "57          Spider-Man: Far From Home  ...  $1,131,927,996\n",
              "\n",
              "[5 rows x 8 columns]"
            ]
          },
          "metadata": {
            "tags": []
          },
          "execution_count": 259
        }
      ]
    },
    {
      "cell_type": "code",
      "metadata": {
        "id": "T-o17qxN3jW1",
        "colab": {
          "base_uri": "https://localhost:8080/",
          "height": 198
        },
        "outputId": "1138689c-7530-4261-dc06-b8fcf66b48dc"
      },
      "source": [
        "mr = df1[15][['Film', 'Rotten Tomatoes']][:61]\n",
        "columns_mr = ['Title', 'Rotten_Tomatoes']\n",
        "mr.columns = columns_mr\n",
        "mr.tail()"
      ],
      "execution_count": null,
      "outputs": [
        {
          "output_type": "execute_result",
          "data": {
            "text/html": [
              "<div>\n",
              "<style scoped>\n",
              "    .dataframe tbody tr th:only-of-type {\n",
              "        vertical-align: middle;\n",
              "    }\n",
              "\n",
              "    .dataframe tbody tr th {\n",
              "        vertical-align: top;\n",
              "    }\n",
              "\n",
              "    .dataframe thead th {\n",
              "        text-align: right;\n",
              "    }\n",
              "</style>\n",
              "<table border=\"1\" class=\"dataframe\">\n",
              "  <thead>\n",
              "    <tr style=\"text-align: right;\">\n",
              "      <th></th>\n",
              "      <th>Title</th>\n",
              "      <th>Rotten_Tomatoes</th>\n",
              "    </tr>\n",
              "  </thead>\n",
              "  <tbody>\n",
              "    <tr>\n",
              "      <th>56</th>\n",
              "      <td>Spider-Man: Into the Spider-Verse</td>\n",
              "      <td>97% (375 reviews)[139]</td>\n",
              "    </tr>\n",
              "    <tr>\n",
              "      <th>57</th>\n",
              "      <td>Captain Marvel</td>\n",
              "      <td>79% (537 reviews)[141]</td>\n",
              "    </tr>\n",
              "    <tr>\n",
              "      <th>58</th>\n",
              "      <td>Avengers: Endgame</td>\n",
              "      <td>94% (521 reviews)[143]</td>\n",
              "    </tr>\n",
              "    <tr>\n",
              "      <th>59</th>\n",
              "      <td>Dark Phoenix</td>\n",
              "      <td>22% (378 reviews)[145]</td>\n",
              "    </tr>\n",
              "    <tr>\n",
              "      <th>60</th>\n",
              "      <td>Spider-Man: Far From Home</td>\n",
              "      <td>90% (448 reviews)[147]</td>\n",
              "    </tr>\n",
              "  </tbody>\n",
              "</table>\n",
              "</div>"
            ],
            "text/plain": [
              "                                Title         Rotten_Tomatoes\n",
              "56  Spider-Man: Into the Spider-Verse  97% (375 reviews)[139]\n",
              "57                     Captain Marvel  79% (537 reviews)[141]\n",
              "58                  Avengers: Endgame  94% (521 reviews)[143]\n",
              "59                       Dark Phoenix  22% (378 reviews)[145]\n",
              "60          Spider-Man: Far From Home  90% (448 reviews)[147]"
            ]
          },
          "metadata": {
            "tags": []
          },
          "execution_count": 258
        }
      ]
    },
    {
      "cell_type": "code",
      "metadata": {
        "id": "kxVdQ8oC3jZh"
      },
      "source": [
        "mbmr = pd.merge(mb, mr, on='Title')\n",
        "# mbmr.head()"
      ],
      "execution_count": null,
      "outputs": []
    },
    {
      "cell_type": "markdown",
      "metadata": {
        "id": "1qS77k1u7MJ-"
      },
      "source": [
        "Merging all tables for Films based on Marvel Comics publications"
      ]
    },
    {
      "cell_type": "code",
      "metadata": {
        "colab": {
          "base_uri": "https://localhost:8080/",
          "height": 198
        },
        "id": "BxSPT-b43lp1",
        "outputId": "4992c50b-62ce-46ff-ab26-5344bf603c25"
      },
      "source": [
        "m_all = pd.merge(mbmr, mf, on='Title')\n",
        "m_all = m_all.drop(['Other_territories'], axis=1)\n",
        "m_all['Comics'] = 'MC'\n",
        "m_all.head()"
      ],
      "execution_count": null,
      "outputs": [
        {
          "output_type": "execute_result",
          "data": {
            "text/html": [
              "<div>\n",
              "<style scoped>\n",
              "    .dataframe tbody tr th:only-of-type {\n",
              "        vertical-align: middle;\n",
              "    }\n",
              "\n",
              "    .dataframe tbody tr th {\n",
              "        vertical-align: top;\n",
              "    }\n",
              "\n",
              "    .dataframe thead th {\n",
              "        text-align: right;\n",
              "    }\n",
              "</style>\n",
              "<table border=\"1\" class=\"dataframe\">\n",
              "  <thead>\n",
              "    <tr style=\"text-align: right;\">\n",
              "      <th></th>\n",
              "      <th>Title</th>\n",
              "      <th>Distributor</th>\n",
              "      <th>Release_date_US</th>\n",
              "      <th>Bud­get_mil­lions</th>\n",
              "      <th>Opening_weekend_North_America</th>\n",
              "      <th>North_America</th>\n",
              "      <th>Worldwide</th>\n",
              "      <th>Rotten_Tomatoes</th>\n",
              "      <th>Year</th>\n",
              "      <th>Production studio(s)</th>\n",
              "      <th>Notes</th>\n",
              "      <th>Comics</th>\n",
              "    </tr>\n",
              "  </thead>\n",
              "  <tbody>\n",
              "    <tr>\n",
              "      <th>0</th>\n",
              "      <td>Howard the Duck</td>\n",
              "      <td>Universal Pictures</td>\n",
              "      <td>August 1, 1986</td>\n",
              "      <td>$37</td>\n",
              "      <td>$5,070,136</td>\n",
              "      <td>$16,295,774</td>\n",
              "      <td>$37,962,774</td>\n",
              "      <td>15% (48 reviews)[29]</td>\n",
              "      <td>1986</td>\n",
              "      <td>Universal Pictures</td>\n",
              "      <td>Co-produced by Lucasfilm</td>\n",
              "      <td>MC</td>\n",
              "    </tr>\n",
              "    <tr>\n",
              "      <th>1</th>\n",
              "      <td>Blade</td>\n",
              "      <td>New Line Cinema</td>\n",
              "      <td>August 21, 1998</td>\n",
              "      <td>$45</td>\n",
              "      <td>$17,073,856</td>\n",
              "      <td>$70,087,718</td>\n",
              "      <td>$131,183,530</td>\n",
              "      <td>56% (103 reviews)[36]</td>\n",
              "      <td>1998</td>\n",
              "      <td>New Line Cinema</td>\n",
              "      <td>NaN</td>\n",
              "      <td>MC</td>\n",
              "    </tr>\n",
              "    <tr>\n",
              "      <th>2</th>\n",
              "      <td>X-Men</td>\n",
              "      <td>20th Century Fox</td>\n",
              "      <td>July 14, 2000</td>\n",
              "      <td>$75</td>\n",
              "      <td>$54,471,475</td>\n",
              "      <td>$157,299,717</td>\n",
              "      <td>$296,339,527</td>\n",
              "      <td>82% (172 reviews)[38]</td>\n",
              "      <td>2000</td>\n",
              "      <td>20th Century Fox</td>\n",
              "      <td>NaN</td>\n",
              "      <td>MC</td>\n",
              "    </tr>\n",
              "    <tr>\n",
              "      <th>3</th>\n",
              "      <td>Blade II</td>\n",
              "      <td>New Line Cinema</td>\n",
              "      <td>March 22, 2002</td>\n",
              "      <td>$54</td>\n",
              "      <td>$32,528,016</td>\n",
              "      <td>$82,348,319</td>\n",
              "      <td>$155,010,032</td>\n",
              "      <td>57% (151 reviews)[40]</td>\n",
              "      <td>2002</td>\n",
              "      <td>New Line Cinema</td>\n",
              "      <td>NaN</td>\n",
              "      <td>MC</td>\n",
              "    </tr>\n",
              "    <tr>\n",
              "      <th>4</th>\n",
              "      <td>Spider-Man</td>\n",
              "      <td>Sony Pictures</td>\n",
              "      <td>May 3, 2002</td>\n",
              "      <td>$139</td>\n",
              "      <td>$114,844,116</td>\n",
              "      <td>$403,706,375</td>\n",
              "      <td>$821,708,551</td>\n",
              "      <td>90% (245 reviews)[42]</td>\n",
              "      <td>2002</td>\n",
              "      <td>Columbia Pictures</td>\n",
              "      <td>Nominated for 2 Oscars</td>\n",
              "      <td>MC</td>\n",
              "    </tr>\n",
              "  </tbody>\n",
              "</table>\n",
              "</div>"
            ],
            "text/plain": [
              "             Title         Distributor  ...                     Notes Comics\n",
              "0  Howard the Duck  Universal Pictures  ...  Co-produced by Lucasfilm     MC\n",
              "1            Blade     New Line Cinema  ...                       NaN     MC\n",
              "2            X-Men    20th Century Fox  ...                       NaN     MC\n",
              "3         Blade II     New Line Cinema  ...                       NaN     MC\n",
              "4       Spider-Man       Sony Pictures  ...    Nominated for 2 Oscars     MC\n",
              "\n",
              "[5 rows x 12 columns]"
            ]
          },
          "metadata": {
            "tags": []
          },
          "execution_count": 361
        }
      ]
    },
    {
      "cell_type": "code",
      "metadata": {
        "id": "DJU0dYhUDQe2"
      },
      "source": [
        ""
      ],
      "execution_count": null,
      "outputs": []
    },
    {
      "cell_type": "markdown",
      "metadata": {
        "id": "ktgj96WR7qcs"
      },
      "source": [
        "The following tables have been scraped from **List of films based on DC Comics publications** on wikipedia and cleaned in the same cell."
      ]
    },
    {
      "cell_type": "code",
      "metadata": {
        "id": "gfs_y3IX1S0Y"
      },
      "source": [
        "df2 = pd.read_html(\"https://en.wikipedia.org/wiki/List_of_films_based_on_DC_Comics_publications\")"
      ],
      "execution_count": null,
      "outputs": []
    },
    {
      "cell_type": "code",
      "metadata": {
        "id": "J7qQEbloGH3O",
        "colab": {
          "base_uri": "https://localhost:8080/",
          "height": 198
        },
        "outputId": "9e77a7d0-799a-4d40-b9bb-758b5c467d1f"
      },
      "source": [
        "df = df2[0][:32]\n",
        "df.tail()"
      ],
      "execution_count": null,
      "outputs": [
        {
          "output_type": "execute_result",
          "data": {
            "text/html": [
              "<div>\n",
              "<style scoped>\n",
              "    .dataframe tbody tr th:only-of-type {\n",
              "        vertical-align: middle;\n",
              "    }\n",
              "\n",
              "    .dataframe tbody tr th {\n",
              "        vertical-align: top;\n",
              "    }\n",
              "\n",
              "    .dataframe thead th {\n",
              "        text-align: right;\n",
              "    }\n",
              "</style>\n",
              "<table border=\"1\" class=\"dataframe\">\n",
              "  <thead>\n",
              "    <tr style=\"text-align: right;\">\n",
              "      <th></th>\n",
              "      <th>Year</th>\n",
              "      <th>Title</th>\n",
              "      <th>Production studio(s)</th>\n",
              "      <th>Notes</th>\n",
              "    </tr>\n",
              "  </thead>\n",
              "  <tbody>\n",
              "    <tr>\n",
              "      <th>27</th>\n",
              "      <td>2017</td>\n",
              "      <td>Wonder Woman</td>\n",
              "      <td>Warner Bros./DC Films/RatPac Entertainment/Atl...</td>\n",
              "      <td>Set in the DCEU</td>\n",
              "    </tr>\n",
              "    <tr>\n",
              "      <th>28</th>\n",
              "      <td>2017</td>\n",
              "      <td>Justice League</td>\n",
              "      <td>Warner Bros./DC Films/RatPac Entertainment/Atl...</td>\n",
              "      <td>Set in the DCEU. Extended director's cut title...</td>\n",
              "    </tr>\n",
              "    <tr>\n",
              "      <th>29</th>\n",
              "      <td>2018</td>\n",
              "      <td>Aquaman</td>\n",
              "      <td>Warner Bros./DC Films/The Safran Company/Cruel...</td>\n",
              "      <td>Set in the DCEU</td>\n",
              "    </tr>\n",
              "    <tr>\n",
              "      <th>30</th>\n",
              "      <td>2019</td>\n",
              "      <td>Shazam!</td>\n",
              "      <td>Warner Bros./DC Films/New Line Cinema/The Safr...</td>\n",
              "      <td>Set in the DCEU</td>\n",
              "    </tr>\n",
              "    <tr>\n",
              "      <th>31</th>\n",
              "      <td>2019</td>\n",
              "      <td>Joker</td>\n",
              "      <td>Warner Bros./DC Films/Village Roadshow Picture...</td>\n",
              "      <td>Won 2 Oscars, nominated for 9 more</td>\n",
              "    </tr>\n",
              "  </tbody>\n",
              "</table>\n",
              "</div>"
            ],
            "text/plain": [
              "    Year  ...                                              Notes\n",
              "27  2017  ...                                    Set in the DCEU\n",
              "28  2017  ...  Set in the DCEU. Extended director's cut title...\n",
              "29  2018  ...                                    Set in the DCEU\n",
              "30  2019  ...                                    Set in the DCEU\n",
              "31  2019  ...                 Won 2 Oscars, nominated for 9 more\n",
              "\n",
              "[5 rows x 4 columns]"
            ]
          },
          "metadata": {
            "tags": []
          },
          "execution_count": 265
        }
      ]
    },
    {
      "cell_type": "code",
      "metadata": {
        "id": "M6KW13Ve1S4m",
        "colab": {
          "base_uri": "https://localhost:8080/",
          "height": 198
        },
        "outputId": "078ad480-288a-40db-9337-71f8898ca2be"
      },
      "source": [
        "db = df2[12][:35]\n",
        "columns_db1 = ['Title', 'Distributor',\t'Release_date_US', 'Bud­get_mil­lions',\t'Opening_weekend_North_America',\t'North_America', 'Worldwide']\n",
        "db.columns = columns_db1\n",
        "db.tail()"
      ],
      "execution_count": null,
      "outputs": [
        {
          "output_type": "execute_result",
          "data": {
            "text/html": [
              "<div>\n",
              "<style scoped>\n",
              "    .dataframe tbody tr th:only-of-type {\n",
              "        vertical-align: middle;\n",
              "    }\n",
              "\n",
              "    .dataframe tbody tr th {\n",
              "        vertical-align: top;\n",
              "    }\n",
              "\n",
              "    .dataframe thead th {\n",
              "        text-align: right;\n",
              "    }\n",
              "</style>\n",
              "<table border=\"1\" class=\"dataframe\">\n",
              "  <thead>\n",
              "    <tr style=\"text-align: right;\">\n",
              "      <th></th>\n",
              "      <th>Title</th>\n",
              "      <th>Distributor</th>\n",
              "      <th>Release_date_US</th>\n",
              "      <th>Bud­get_mil­lions</th>\n",
              "      <th>Opening_weekend_North_America</th>\n",
              "      <th>North_America</th>\n",
              "      <th>Worldwide</th>\n",
              "    </tr>\n",
              "  </thead>\n",
              "  <tbody>\n",
              "    <tr>\n",
              "      <th>30</th>\n",
              "      <td>Justice League</td>\n",
              "      <td>Warner Bros.</td>\n",
              "      <td>November 17, 2017</td>\n",
              "      <td>$300</td>\n",
              "      <td>$93,842,239</td>\n",
              "      <td>$229,024,295</td>\n",
              "      <td>$657,924,295</td>\n",
              "    </tr>\n",
              "    <tr>\n",
              "      <th>31</th>\n",
              "      <td>Teen Titans Go! To the Movies</td>\n",
              "      <td>Warner Bros.</td>\n",
              "      <td>July 27, 2018</td>\n",
              "      <td>$10</td>\n",
              "      <td>$10,411,189</td>\n",
              "      <td>$29,790,236</td>\n",
              "      <td>$52,090,236</td>\n",
              "    </tr>\n",
              "    <tr>\n",
              "      <th>32</th>\n",
              "      <td>Aquaman</td>\n",
              "      <td>Warner Bros.</td>\n",
              "      <td>December 21, 2018</td>\n",
              "      <td>$160</td>\n",
              "      <td>$67,873,522</td>\n",
              "      <td>$335,061,807</td>\n",
              "      <td>$1,148,461,807</td>\n",
              "    </tr>\n",
              "    <tr>\n",
              "      <th>33</th>\n",
              "      <td>Shazam!</td>\n",
              "      <td>Warner Bros.</td>\n",
              "      <td>April 5, 2019</td>\n",
              "      <td>$100</td>\n",
              "      <td>$53,505,326</td>\n",
              "      <td>$140,371,656</td>\n",
              "      <td>$365,971,656</td>\n",
              "    </tr>\n",
              "    <tr>\n",
              "      <th>34</th>\n",
              "      <td>Joker</td>\n",
              "      <td>Warner Bros.</td>\n",
              "      <td>October 4, 2019</td>\n",
              "      <td>$55</td>\n",
              "      <td>$96,202,337</td>\n",
              "      <td>$335,451,311</td>\n",
              "      <td>$1,074,251,311</td>\n",
              "    </tr>\n",
              "  </tbody>\n",
              "</table>\n",
              "</div>"
            ],
            "text/plain": [
              "                            Title   Distributor  ... North_America       Worldwide\n",
              "30                 Justice League  Warner Bros.  ...  $229,024,295    $657,924,295\n",
              "31  Teen Titans Go! To the Movies  Warner Bros.  ...   $29,790,236     $52,090,236\n",
              "32                        Aquaman  Warner Bros.  ...  $335,061,807  $1,148,461,807\n",
              "33                        Shazam!  Warner Bros.  ...  $140,371,656    $365,971,656\n",
              "34                          Joker  Warner Bros.  ...  $335,451,311  $1,074,251,311\n",
              "\n",
              "[5 rows x 7 columns]"
            ]
          },
          "metadata": {
            "tags": []
          },
          "execution_count": 267
        }
      ]
    },
    {
      "cell_type": "code",
      "metadata": {
        "id": "tb9NZjVz1S5r",
        "colab": {
          "base_uri": "https://localhost:8080/",
          "height": 198
        },
        "outputId": "9b2b1199-10e7-44e7-ffcb-28c982c271cd"
      },
      "source": [
        "dr = df2[13][['Film', 'Rotten Tomatoes']][:36]\n",
        "columns_dr = ['Title', 'Rotten_Tomatoes']\n",
        "dr.columns = columns_dr\n",
        "dr.tail()"
      ],
      "execution_count": null,
      "outputs": [
        {
          "output_type": "execute_result",
          "data": {
            "text/html": [
              "<div>\n",
              "<style scoped>\n",
              "    .dataframe tbody tr th:only-of-type {\n",
              "        vertical-align: middle;\n",
              "    }\n",
              "\n",
              "    .dataframe tbody tr th {\n",
              "        vertical-align: top;\n",
              "    }\n",
              "\n",
              "    .dataframe thead th {\n",
              "        text-align: right;\n",
              "    }\n",
              "</style>\n",
              "<table border=\"1\" class=\"dataframe\">\n",
              "  <thead>\n",
              "    <tr style=\"text-align: right;\">\n",
              "      <th></th>\n",
              "      <th>Title</th>\n",
              "      <th>Rotten_Tomatoes</th>\n",
              "    </tr>\n",
              "  </thead>\n",
              "  <tbody>\n",
              "    <tr>\n",
              "      <th>31</th>\n",
              "      <td>Justice League</td>\n",
              "      <td>40% (400 reviews)[74]</td>\n",
              "    </tr>\n",
              "    <tr>\n",
              "      <th>32</th>\n",
              "      <td>Teen Titans Go! To the Movies</td>\n",
              "      <td>91% (132 reviews)[76]</td>\n",
              "    </tr>\n",
              "    <tr>\n",
              "      <th>33</th>\n",
              "      <td>Aquaman</td>\n",
              "      <td>65% (406 reviews)[78]</td>\n",
              "    </tr>\n",
              "    <tr>\n",
              "      <th>34</th>\n",
              "      <td>Shazam!</td>\n",
              "      <td>90% (409 reviews)[80]</td>\n",
              "    </tr>\n",
              "    <tr>\n",
              "      <th>35</th>\n",
              "      <td>Joker</td>\n",
              "      <td>68% (583 reviews)[82]</td>\n",
              "    </tr>\n",
              "  </tbody>\n",
              "</table>\n",
              "</div>"
            ],
            "text/plain": [
              "                            Title        Rotten_Tomatoes\n",
              "31                 Justice League  40% (400 reviews)[74]\n",
              "32  Teen Titans Go! To the Movies  91% (132 reviews)[76]\n",
              "33                        Aquaman  65% (406 reviews)[78]\n",
              "34                        Shazam!  90% (409 reviews)[80]\n",
              "35                          Joker  68% (583 reviews)[82]"
            ]
          },
          "metadata": {
            "tags": []
          },
          "execution_count": 269
        }
      ]
    },
    {
      "cell_type": "code",
      "metadata": {
        "id": "ue4JRmSN6Yyw"
      },
      "source": [
        "dbdr = pd.merge(db, dr, on='Title')\n",
        "# dbdr.head()"
      ],
      "execution_count": null,
      "outputs": []
    },
    {
      "cell_type": "markdown",
      "metadata": {
        "id": "Qe1Eea4l8Af-"
      },
      "source": [
        "Merging all tables for Films based on DC Comics publications"
      ]
    },
    {
      "cell_type": "code",
      "metadata": {
        "colab": {
          "base_uri": "https://localhost:8080/",
          "height": 302
        },
        "id": "Y2DOZS8VC0RO",
        "outputId": "fccabae2-a0fc-4589-8018-c352fc4f6f32"
      },
      "source": [
        "d_all = pd.merge(dbdr, df, on='Title')\n",
        "d_all['Comics'] = 'DC'\n",
        "d_all.head()"
      ],
      "execution_count": null,
      "outputs": [
        {
          "output_type": "execute_result",
          "data": {
            "text/html": [
              "<div>\n",
              "<style scoped>\n",
              "    .dataframe tbody tr th:only-of-type {\n",
              "        vertical-align: middle;\n",
              "    }\n",
              "\n",
              "    .dataframe tbody tr th {\n",
              "        vertical-align: top;\n",
              "    }\n",
              "\n",
              "    .dataframe thead th {\n",
              "        text-align: right;\n",
              "    }\n",
              "</style>\n",
              "<table border=\"1\" class=\"dataframe\">\n",
              "  <thead>\n",
              "    <tr style=\"text-align: right;\">\n",
              "      <th></th>\n",
              "      <th>Title</th>\n",
              "      <th>Distributor</th>\n",
              "      <th>Release_date_US</th>\n",
              "      <th>Bud­get_mil­lions</th>\n",
              "      <th>Opening_weekend_North_America</th>\n",
              "      <th>North_America</th>\n",
              "      <th>Worldwide</th>\n",
              "      <th>Rotten_Tomatoes</th>\n",
              "      <th>Year</th>\n",
              "      <th>Production studio(s)</th>\n",
              "      <th>Notes</th>\n",
              "      <th>Comics</th>\n",
              "    </tr>\n",
              "  </thead>\n",
              "  <tbody>\n",
              "    <tr>\n",
              "      <th>0</th>\n",
              "      <td>Superman</td>\n",
              "      <td>Warner Bros.</td>\n",
              "      <td>December 10, 1978</td>\n",
              "      <td>$55</td>\n",
              "      <td>$6,535,784</td>\n",
              "      <td>$134,218,018</td>\n",
              "      <td>$300,218,018</td>\n",
              "      <td>94% (67 reviews)[21]</td>\n",
              "      <td>1978</td>\n",
              "      <td>Dovemead Film Export A.G./International Film P...</td>\n",
              "      <td>Won 1 Special Oscar, nominated for 3 more</td>\n",
              "      <td>DC</td>\n",
              "    </tr>\n",
              "    <tr>\n",
              "      <th>1</th>\n",
              "      <td>Superman II</td>\n",
              "      <td>Warner Bros.</td>\n",
              "      <td>June 19, 1981</td>\n",
              "      <td>$54</td>\n",
              "      <td>$14,100,523</td>\n",
              "      <td>$108,185,706</td>\n",
              "      <td>$108,185,706</td>\n",
              "      <td>86% (50 reviews)[23]</td>\n",
              "      <td>1980</td>\n",
              "      <td>Dovemead Film Export A.G./International Film P...</td>\n",
              "      <td>Director's cut titled Superman II: The Richard...</td>\n",
              "      <td>DC</td>\n",
              "    </tr>\n",
              "    <tr>\n",
              "      <th>2</th>\n",
              "      <td>Swamp Thing</td>\n",
              "      <td>Embassy Pictures</td>\n",
              "      <td>February 19, 1982</td>\n",
              "      <td>$2.5</td>\n",
              "      <td>NaN</td>\n",
              "      <td>NaN</td>\n",
              "      <td>NaN</td>\n",
              "      <td>67% (36 reviews)[25]</td>\n",
              "      <td>1982</td>\n",
              "      <td>Embassy Pictures</td>\n",
              "      <td>NaN</td>\n",
              "      <td>DC</td>\n",
              "    </tr>\n",
              "    <tr>\n",
              "      <th>3</th>\n",
              "      <td>Superman III</td>\n",
              "      <td>Warner Bros.</td>\n",
              "      <td>June 17, 1983</td>\n",
              "      <td>$39</td>\n",
              "      <td>$13,352,357</td>\n",
              "      <td>$59,950,623</td>\n",
              "      <td>$59,950,623</td>\n",
              "      <td>29% (52 reviews)[26]</td>\n",
              "      <td>1983</td>\n",
              "      <td>Cantharus Productions N.V./Dovemead Films</td>\n",
              "      <td>NaN</td>\n",
              "      <td>DC</td>\n",
              "    </tr>\n",
              "    <tr>\n",
              "      <th>4</th>\n",
              "      <td>Supergirl</td>\n",
              "      <td>TriStar Pictures</td>\n",
              "      <td>November 21, 1984</td>\n",
              "      <td>$35</td>\n",
              "      <td>$5,738,249</td>\n",
              "      <td>$14,296,438</td>\n",
              "      <td>$14,296,438</td>\n",
              "      <td>10% (31 reviews)[28]</td>\n",
              "      <td>1984</td>\n",
              "      <td>Artistry Ltd/Cantharus Productions/Pueblo Film...</td>\n",
              "      <td>Spin-off to 1978 Superman film</td>\n",
              "      <td>DC</td>\n",
              "    </tr>\n",
              "  </tbody>\n",
              "</table>\n",
              "</div>"
            ],
            "text/plain": [
              "          Title  ... Comics\n",
              "0      Superman  ...     DC\n",
              "1   Superman II  ...     DC\n",
              "2   Swamp Thing  ...     DC\n",
              "3  Superman III  ...     DC\n",
              "4     Supergirl  ...     DC\n",
              "\n",
              "[5 rows x 12 columns]"
            ]
          },
          "metadata": {
            "tags": []
          },
          "execution_count": 362
        }
      ]
    },
    {
      "cell_type": "markdown",
      "metadata": {
        "id": "zc0XYk_B8EM0"
      },
      "source": [
        "Merging all six tables stacked in one"
      ]
    },
    {
      "cell_type": "code",
      "metadata": {
        "colab": {
          "base_uri": "https://localhost:8080/",
          "height": 302
        },
        "id": "_1SZVGdzC0Tk",
        "outputId": "63e35253-540b-4eca-e667-e6904511e5ae"
      },
      "source": [
        "mcdcall = m_all.append(d_all).sort_values('Year', ascending=True)\n",
        "mcdcall.head()"
      ],
      "execution_count": null,
      "outputs": [
        {
          "output_type": "execute_result",
          "data": {
            "text/html": [
              "<div>\n",
              "<style scoped>\n",
              "    .dataframe tbody tr th:only-of-type {\n",
              "        vertical-align: middle;\n",
              "    }\n",
              "\n",
              "    .dataframe tbody tr th {\n",
              "        vertical-align: top;\n",
              "    }\n",
              "\n",
              "    .dataframe thead th {\n",
              "        text-align: right;\n",
              "    }\n",
              "</style>\n",
              "<table border=\"1\" class=\"dataframe\">\n",
              "  <thead>\n",
              "    <tr style=\"text-align: right;\">\n",
              "      <th></th>\n",
              "      <th>Title</th>\n",
              "      <th>Distributor</th>\n",
              "      <th>Release_date_US</th>\n",
              "      <th>Bud­get_mil­lions</th>\n",
              "      <th>Opening_weekend_North_America</th>\n",
              "      <th>North_America</th>\n",
              "      <th>Worldwide</th>\n",
              "      <th>Rotten_Tomatoes</th>\n",
              "      <th>Year</th>\n",
              "      <th>Production studio(s)</th>\n",
              "      <th>Notes</th>\n",
              "      <th>Comics</th>\n",
              "    </tr>\n",
              "  </thead>\n",
              "  <tbody>\n",
              "    <tr>\n",
              "      <th>0</th>\n",
              "      <td>Superman</td>\n",
              "      <td>Warner Bros.</td>\n",
              "      <td>December 10, 1978</td>\n",
              "      <td>$55</td>\n",
              "      <td>$6,535,784</td>\n",
              "      <td>$134,218,018</td>\n",
              "      <td>$300,218,018</td>\n",
              "      <td>94% (67 reviews)[21]</td>\n",
              "      <td>1978</td>\n",
              "      <td>Dovemead Film Export A.G./International Film P...</td>\n",
              "      <td>Won 1 Special Oscar, nominated for 3 more</td>\n",
              "      <td>DC</td>\n",
              "    </tr>\n",
              "    <tr>\n",
              "      <th>1</th>\n",
              "      <td>Superman II</td>\n",
              "      <td>Warner Bros.</td>\n",
              "      <td>June 19, 1981</td>\n",
              "      <td>$54</td>\n",
              "      <td>$14,100,523</td>\n",
              "      <td>$108,185,706</td>\n",
              "      <td>$108,185,706</td>\n",
              "      <td>86% (50 reviews)[23]</td>\n",
              "      <td>1980</td>\n",
              "      <td>Dovemead Film Export A.G./International Film P...</td>\n",
              "      <td>Director's cut titled Superman II: The Richard...</td>\n",
              "      <td>DC</td>\n",
              "    </tr>\n",
              "    <tr>\n",
              "      <th>2</th>\n",
              "      <td>Swamp Thing</td>\n",
              "      <td>Embassy Pictures</td>\n",
              "      <td>February 19, 1982</td>\n",
              "      <td>$2.5</td>\n",
              "      <td>NaN</td>\n",
              "      <td>NaN</td>\n",
              "      <td>NaN</td>\n",
              "      <td>67% (36 reviews)[25]</td>\n",
              "      <td>1982</td>\n",
              "      <td>Embassy Pictures</td>\n",
              "      <td>NaN</td>\n",
              "      <td>DC</td>\n",
              "    </tr>\n",
              "    <tr>\n",
              "      <th>3</th>\n",
              "      <td>Superman III</td>\n",
              "      <td>Warner Bros.</td>\n",
              "      <td>June 17, 1983</td>\n",
              "      <td>$39</td>\n",
              "      <td>$13,352,357</td>\n",
              "      <td>$59,950,623</td>\n",
              "      <td>$59,950,623</td>\n",
              "      <td>29% (52 reviews)[26]</td>\n",
              "      <td>1983</td>\n",
              "      <td>Cantharus Productions N.V./Dovemead Films</td>\n",
              "      <td>NaN</td>\n",
              "      <td>DC</td>\n",
              "    </tr>\n",
              "    <tr>\n",
              "      <th>4</th>\n",
              "      <td>Supergirl</td>\n",
              "      <td>TriStar Pictures</td>\n",
              "      <td>November 21, 1984</td>\n",
              "      <td>$35</td>\n",
              "      <td>$5,738,249</td>\n",
              "      <td>$14,296,438</td>\n",
              "      <td>$14,296,438</td>\n",
              "      <td>10% (31 reviews)[28]</td>\n",
              "      <td>1984</td>\n",
              "      <td>Artistry Ltd/Cantharus Productions/Pueblo Film...</td>\n",
              "      <td>Spin-off to 1978 Superman film</td>\n",
              "      <td>DC</td>\n",
              "    </tr>\n",
              "  </tbody>\n",
              "</table>\n",
              "</div>"
            ],
            "text/plain": [
              "          Title  ... Comics\n",
              "0      Superman  ...     DC\n",
              "1   Superman II  ...     DC\n",
              "2   Swamp Thing  ...     DC\n",
              "3  Superman III  ...     DC\n",
              "4     Supergirl  ...     DC\n",
              "\n",
              "[5 rows x 12 columns]"
            ]
          },
          "metadata": {
            "tags": []
          },
          "execution_count": 315
        }
      ]
    },
    {
      "cell_type": "code",
      "metadata": {
        "id": "zKyRb4WD8gt4"
      },
      "source": [
        ""
      ],
      "execution_count": null,
      "outputs": []
    },
    {
      "cell_type": "markdown",
      "metadata": {
        "id": "bnhoMSuF8ivH"
      },
      "source": [
        "## More cleaning, shortening and resampling the data"
      ]
    },
    {
      "cell_type": "code",
      "metadata": {
        "colab": {
          "base_uri": "https://localhost:8080/",
          "height": 198
        },
        "id": "fECcBL80hE-h",
        "outputId": "16e9332f-9a10-4d0c-8ecb-a8f218b65343"
      },
      "source": [
        "mcdc_all = mcdcall\n",
        "mcdc_all['Oscar_Nomination'] = mcdc_all['Notes'].map(lambda x: 1 if 'Oscar' in str(x) else 0)\n",
        "mcdc_all['Comics'] = mcdc_all['Comics'].map(lambda x: 1 if 'DC' in str(x) else 0)\n",
        "mcdc_all['Rotten_Tomatoes'] = mcdc_all['Rotten_Tomatoes'].str.extract(r'(\\d+)').astype(int)\n",
        "mcdc_all[mcdc_all.columns[3:7]] = mcdc_all[mcdc_all.columns[3:7]].replace('[\\$,]', '', regex=True).astype(float)\n",
        "mcdc_all['Budget'] = mcdc_all['Bud­get_mil­lions'].astype(float)*1000000.00\n",
        "\n",
        "mdst = mcdc_all.drop(['Title', 'Distributor', \"Release_date_US\", \"Year\", \"Production studio(s)\", \"Notes\", \"Bud­get_mil­lions\"], axis=1)\n",
        "mds = mdst.dropna()\n",
        "mds.tail()"
      ],
      "execution_count": null,
      "outputs": [
        {
          "output_type": "execute_result",
          "data": {
            "text/html": [
              "<div>\n",
              "<style scoped>\n",
              "    .dataframe tbody tr th:only-of-type {\n",
              "        vertical-align: middle;\n",
              "    }\n",
              "\n",
              "    .dataframe tbody tr th {\n",
              "        vertical-align: top;\n",
              "    }\n",
              "\n",
              "    .dataframe thead th {\n",
              "        text-align: right;\n",
              "    }\n",
              "</style>\n",
              "<table border=\"1\" class=\"dataframe\">\n",
              "  <thead>\n",
              "    <tr style=\"text-align: right;\">\n",
              "      <th></th>\n",
              "      <th>Opening_weekend_North_America</th>\n",
              "      <th>North_America</th>\n",
              "      <th>Worldwide</th>\n",
              "      <th>Rotten_Tomatoes</th>\n",
              "      <th>Comics</th>\n",
              "      <th>Oscar_Nomination</th>\n",
              "      <th>Budget</th>\n",
              "    </tr>\n",
              "  </thead>\n",
              "  <tbody>\n",
              "    <tr>\n",
              "      <th>49</th>\n",
              "      <td>357115007.0</td>\n",
              "      <td>858373000.0</td>\n",
              "      <td>2.797801e+09</td>\n",
              "      <td>94</td>\n",
              "      <td>0</td>\n",
              "      <td>1</td>\n",
              "      <td>356000000.0</td>\n",
              "    </tr>\n",
              "    <tr>\n",
              "      <th>48</th>\n",
              "      <td>153433423.0</td>\n",
              "      <td>426829839.0</td>\n",
              "      <td>1.128275e+09</td>\n",
              "      <td>79</td>\n",
              "      <td>0</td>\n",
              "      <td>0</td>\n",
              "      <td>152000000.0</td>\n",
              "    </tr>\n",
              "    <tr>\n",
              "      <th>26</th>\n",
              "      <td>53505326.0</td>\n",
              "      <td>140371656.0</td>\n",
              "      <td>3.659717e+08</td>\n",
              "      <td>90</td>\n",
              "      <td>1</td>\n",
              "      <td>0</td>\n",
              "      <td>100000000.0</td>\n",
              "    </tr>\n",
              "    <tr>\n",
              "      <th>51</th>\n",
              "      <td>92579212.0</td>\n",
              "      <td>390532085.0</td>\n",
              "      <td>1.131928e+09</td>\n",
              "      <td>90</td>\n",
              "      <td>0</td>\n",
              "      <td>0</td>\n",
              "      <td>160000000.0</td>\n",
              "    </tr>\n",
              "    <tr>\n",
              "      <th>27</th>\n",
              "      <td>96202337.0</td>\n",
              "      <td>335451311.0</td>\n",
              "      <td>1.074251e+09</td>\n",
              "      <td>68</td>\n",
              "      <td>1</td>\n",
              "      <td>1</td>\n",
              "      <td>55000000.0</td>\n",
              "    </tr>\n",
              "  </tbody>\n",
              "</table>\n",
              "</div>"
            ],
            "text/plain": [
              "    Opening_weekend_North_America  North_America  ...  Oscar_Nomination       Budget\n",
              "49                    357115007.0    858373000.0  ...                 1  356000000.0\n",
              "48                    153433423.0    426829839.0  ...                 0  152000000.0\n",
              "26                     53505326.0    140371656.0  ...                 0  100000000.0\n",
              "51                     92579212.0    390532085.0  ...                 0  160000000.0\n",
              "27                     96202337.0    335451311.0  ...                 1   55000000.0\n",
              "\n",
              "[5 rows x 7 columns]"
            ]
          },
          "metadata": {
            "tags": []
          },
          "execution_count": 316
        }
      ]
    },
    {
      "cell_type": "code",
      "metadata": {
        "colab": {
          "base_uri": "https://localhost:8080/",
          "height": 319
        },
        "id": "1MWMPeeScKly",
        "outputId": "b2fda790-45de-416d-ae7f-c8b6345f4d6a"
      },
      "source": [
        "count_classes = pd.value_counts(mds['Oscar_Nomination'], sort = True)\n",
        "count_classes.plot(kind = 'bar', rot=0)\n",
        "plt.title(\"Oscar Nomination Distribution\")\n",
        "plt.xlabel(\"Nomination\")\n",
        "plt.ylabel(\"Count\")"
      ],
      "execution_count": null,
      "outputs": [
        {
          "output_type": "execute_result",
          "data": {
            "text/plain": [
              "Text(0, 0.5, 'Count')"
            ]
          },
          "metadata": {
            "tags": []
          },
          "execution_count": 363
        },
        {
          "output_type": "display_data",
          "data": {
            "image/png": "[encoded data removed]",
            "text/plain": [
              "<Figure size 432x288 with 1 Axes>"
            ]
          },
          "metadata": {
            "tags": [],
            "needs_background": "light"
          }
        }
      ]
    },
    {
      "cell_type": "markdown",
      "metadata": {
        "id": "aKvrkEta8110"
      },
      "source": [
        "There is a huge class imbalance among the Oscar Nomination samples. Therefore, resampling is needed. I am choosing Oversampling because I do not want to lose any data."
      ]
    },
    {
      "cell_type": "code",
      "metadata": {
        "id": "ca1HA0hrsqTM",
        "colab": {
          "base_uri": "https://localhost:8080/"
        },
        "outputId": "2af56cc1-a433-4289-8f5b-5eaad70854a0"
      },
      "source": [
        "# Find the number of churned and not churned accounts\n",
        "nominated = mds[mds['Oscar_Nomination'] == 1]\n",
        "not_nominated = mds[mds['Oscar_Nomination'] == 0]\n",
        "\n",
        "print(nominated.shape,not_nominated.shape)"
      ],
      "execution_count": null,
      "outputs": [
        {
          "output_type": "stream",
          "text": [
            "(23, 7) (55, 7)\n"
          ],
          "name": "stdout"
        }
      ]
    },
    {
      "cell_type": "code",
      "metadata": {
        "colab": {
          "base_uri": "https://localhost:8080/"
        },
        "id": "pDBjDkSzU37c",
        "outputId": "988bc1df-6b61-47db-b7be-3d1f80abb80f"
      },
      "source": [
        "#Drop Attrition_Flag from dataset\n",
        "X = mds.drop(['Oscar_Nomination'], axis=1)\n",
        "#Get target\n",
        "y = mds['Oscar_Nomination']\n",
        "\n",
        "print(X.shape)\n",
        "print(y.shape)"
      ],
      "execution_count": null,
      "outputs": [
        {
          "output_type": "stream",
          "text": [
            "(78, 6)\n",
            "(78,)\n"
          ],
          "name": "stdout"
        }
      ]
    },
    {
      "cell_type": "code",
      "metadata": {
        "id": "Nqviyv0FUpCt"
      },
      "source": [
        "os =  RandomOverSampler(ratio=1)\n",
        "X_train_res, y_train_res = os.fit_sample(X, y)"
      ],
      "execution_count": null,
      "outputs": []
    },
    {
      "cell_type": "code",
      "metadata": {
        "colab": {
          "base_uri": "https://localhost:8080/"
        },
        "id": "VmMrSxAjQanz",
        "outputId": "720ffc7b-8e7d-4e97-9f72-dace362f96b5"
      },
      "source": [
        "print(X_train_res.shape)\n",
        "print(y_train_res.shape)"
      ],
      "execution_count": null,
      "outputs": [
        {
          "output_type": "stream",
          "text": [
            "(110, 6)\n",
            "(110,)\n"
          ],
          "name": "stdout"
        }
      ]
    },
    {
      "cell_type": "code",
      "metadata": {
        "colab": {
          "base_uri": "https://localhost:8080/"
        },
        "id": "IdsiIeWlUpFH",
        "outputId": "0af2dba5-4fa7-48ad-fa11-6b351a42510d"
      },
      "source": [
        "print('Original dataset shape {}'.format(Counter(y)))\n",
        "print('Resampled dataset shape {}'.format(Counter(y_train_res)))"
      ],
      "execution_count": null,
      "outputs": [
        {
          "output_type": "stream",
          "text": [
            "Original dataset shape Counter({0: 55, 1: 23})\n",
            "Resampled dataset shape Counter({1: 55, 0: 55})\n"
          ],
          "name": "stdout"
        }
      ]
    },
    {
      "cell_type": "code",
      "metadata": {
        "colab": {
          "base_uri": "https://localhost:8080/"
        },
        "id": "MW7nZKb0UpH0",
        "outputId": "125a849b-87bf-47a7-cacd-40cd65abd996"
      },
      "source": [
        "data_res = pd.DataFrame(X_train_res, columns=X.columns)\n",
        "data_res['Oscar_Nomination'] = y_train_res\n",
        "print(data_res.shape)"
      ],
      "execution_count": null,
      "outputs": [
        {
          "output_type": "stream",
          "text": [
            "(110, 7)\n"
          ],
          "name": "stdout"
        }
      ]
    },
    {
      "cell_type": "code",
      "metadata": {
        "id": "veBjiMk3qgKY"
      },
      "source": [
        ""
      ],
      "execution_count": null,
      "outputs": []
    },
    {
      "cell_type": "markdown",
      "metadata": {
        "id": "4TV5XRCaXy4M"
      },
      "source": [
        "## Splitting the dataset and perform feature scaling"
      ]
    },
    {
      "cell_type": "code",
      "metadata": {
        "id": "2VV2zxyTlE-z"
      },
      "source": [
        "# Split df into X and y\n",
        "ys = data_res['Oscar_Nomination'].copy()\n",
        "X_s = data_res.drop('Oscar_Nomination', axis=1).copy()\n",
        "    \n",
        "# Scale X with a standard scaler\n",
        "scaler = StandardScaler()\n",
        "Xsp = pd.DataFrame(scaler.fit_transform(X_s), columns=X_s.columns)"
      ],
      "execution_count": null,
      "outputs": []
    },
    {
      "cell_type": "markdown",
      "metadata": {
        "id": "tXoJ2Ewq9rX7"
      },
      "source": [
        "Final data that is to be put to train and test"
      ]
    },
    {
      "cell_type": "code",
      "metadata": {
        "colab": {
          "base_uri": "https://localhost:8080/",
          "height": 198
        },
        "id": "5Rlia695lFBk",
        "outputId": "de0578a3-f152-450f-f0ad-07362d8ed5b2"
      },
      "source": [
        "data_res.head()"
      ],
      "execution_count": null,
      "outputs": [
        {
          "output_type": "execute_result",
          "data": {
            "text/html": [
              "<div>\n",
              "<style scoped>\n",
              "    .dataframe tbody tr th:only-of-type {\n",
              "        vertical-align: middle;\n",
              "    }\n",
              "\n",
              "    .dataframe tbody tr th {\n",
              "        vertical-align: top;\n",
              "    }\n",
              "\n",
              "    .dataframe thead th {\n",
              "        text-align: right;\n",
              "    }\n",
              "</style>\n",
              "<table border=\"1\" class=\"dataframe\">\n",
              "  <thead>\n",
              "    <tr style=\"text-align: right;\">\n",
              "      <th></th>\n",
              "      <th>Opening_weekend_North_America</th>\n",
              "      <th>North_America</th>\n",
              "      <th>Worldwide</th>\n",
              "      <th>Rotten_Tomatoes</th>\n",
              "      <th>Comics</th>\n",
              "      <th>Budget</th>\n",
              "      <th>Oscar_Nomination</th>\n",
              "      <th>Probability_of_Nomination</th>\n",
              "    </tr>\n",
              "  </thead>\n",
              "  <tbody>\n",
              "    <tr>\n",
              "      <th>0</th>\n",
              "      <td>6535784.0</td>\n",
              "      <td>134218018.0</td>\n",
              "      <td>300218018.0</td>\n",
              "      <td>94.0</td>\n",
              "      <td>1.0</td>\n",
              "      <td>55000000.0</td>\n",
              "      <td>1</td>\n",
              "      <td>1.0</td>\n",
              "    </tr>\n",
              "    <tr>\n",
              "      <th>1</th>\n",
              "      <td>14100523.0</td>\n",
              "      <td>108185706.0</td>\n",
              "      <td>108185706.0</td>\n",
              "      <td>86.0</td>\n",
              "      <td>1.0</td>\n",
              "      <td>54000000.0</td>\n",
              "      <td>0</td>\n",
              "      <td>0.0</td>\n",
              "    </tr>\n",
              "    <tr>\n",
              "      <th>2</th>\n",
              "      <td>13352357.0</td>\n",
              "      <td>59950623.0</td>\n",
              "      <td>59950623.0</td>\n",
              "      <td>29.0</td>\n",
              "      <td>1.0</td>\n",
              "      <td>39000000.0</td>\n",
              "      <td>0</td>\n",
              "      <td>0.0</td>\n",
              "    </tr>\n",
              "    <tr>\n",
              "      <th>3</th>\n",
              "      <td>5738249.0</td>\n",
              "      <td>14296438.0</td>\n",
              "      <td>14296438.0</td>\n",
              "      <td>10.0</td>\n",
              "      <td>1.0</td>\n",
              "      <td>35000000.0</td>\n",
              "      <td>0</td>\n",
              "      <td>0.0</td>\n",
              "    </tr>\n",
              "    <tr>\n",
              "      <th>4</th>\n",
              "      <td>5070136.0</td>\n",
              "      <td>16295774.0</td>\n",
              "      <td>37962774.0</td>\n",
              "      <td>15.0</td>\n",
              "      <td>0.0</td>\n",
              "      <td>37000000.0</td>\n",
              "      <td>0</td>\n",
              "      <td>0.0</td>\n",
              "    </tr>\n",
              "  </tbody>\n",
              "</table>\n",
              "</div>"
            ],
            "text/plain": [
              "   Opening_weekend_North_America  ...  Probability_of_Nomination\n",
              "0                      6535784.0  ...                        1.0\n",
              "1                     14100523.0  ...                        0.0\n",
              "2                     13352357.0  ...                        0.0\n",
              "3                      5738249.0  ...                        0.0\n",
              "4                      5070136.0  ...                        0.0\n",
              "\n",
              "[5 rows x 8 columns]"
            ]
          },
          "metadata": {
            "tags": []
          },
          "execution_count": 365
        }
      ]
    },
    {
      "cell_type": "markdown",
      "metadata": {
        "id": "eJYLy2LTnrd6"
      },
      "source": [
        "## Train and test data with 70% - 30% ratio"
      ]
    },
    {
      "cell_type": "code",
      "metadata": {
        "id": "dhzvii7fWcKR"
      },
      "source": [
        "X_train, X_test, y_train, y_test = train_test_split(Xsp, ys, test_size=0.3, random_state=50)"
      ],
      "execution_count": null,
      "outputs": []
    },
    {
      "cell_type": "markdown",
      "metadata": {
        "id": "QMFVBybl9660"
      },
      "source": [
        "Perform different types of modelling"
      ]
    },
    {
      "cell_type": "markdown",
      "metadata": {
        "id": "MYQkuk7soA9g"
      },
      "source": [
        "* Logistic Regression Model"
      ]
    },
    {
      "cell_type": "code",
      "metadata": {
        "id": "FkIL795XL50Q"
      },
      "source": [
        "#Fit the Logistic Regression Model\n",
        "logmodel = LogisticRegression(random_state=50)\n",
        "logmodel.fit(X_train,y_train)\n",
        "\n",
        "#Predict the value for new, unseen data\n",
        "pred = logmodel.predict(X_test)\n",
        "\n",
        "# Find Accuracy using accuracy_score method\n",
        "logmodel_accuracy = round(metrics.accuracy_score(y_test, pred) * 100, 2)"
      ],
      "execution_count": null,
      "outputs": []
    },
    {
      "cell_type": "markdown",
      "metadata": {
        "id": "P7ShtbZNoRVe"
      },
      "source": [
        "* Decision Tree Classification Model"
      ]
    },
    {
      "cell_type": "code",
      "metadata": {
        "id": "Rh1wfckAPPZ0"
      },
      "source": [
        "#Fit the Decision Tree Classification Model\n",
        "dtmodel = DecisionTreeClassifier(criterion = \"gini\", random_state = 50)\n",
        "dtmodel.fit(X_train, y_train) \n",
        "  \n",
        "#Predict the value for new, unseen data\n",
        "dt_pred = dtmodel.predict(X_test)\n",
        "\n",
        "# Find Accuracy using accuracy_score method\n",
        "dt_accuracy = round(metrics.accuracy_score(y_test, dt_pred) * 100, 2)"
      ],
      "execution_count": null,
      "outputs": []
    },
    {
      "cell_type": "markdown",
      "metadata": {
        "id": "tIkDkDbdoVv6"
      },
      "source": [
        "* Random Forest Classification Model"
      ]
    },
    {
      "cell_type": "code",
      "metadata": {
        "id": "KT-lrbe-PRlr"
      },
      "source": [
        "#Fit the Random Forest Classification Model\n",
        "rfmodel = RandomForestClassifier(n_estimators = 100, criterion = 'entropy', random_state = 50)\n",
        "rfmodel.fit(X_train, y_train) \n",
        "  \n",
        "#Predict the value for new, unseen data\n",
        "rf_pred = rfmodel.predict(X_test)\n",
        "\n",
        "# Find Accuracy using accuracy_score method\n",
        "rf_accuracy = round(metrics.accuracy_score(y_test, rf_pred) * 100, 2)"
      ],
      "execution_count": null,
      "outputs": []
    },
    {
      "cell_type": "code",
      "metadata": {
        "id": "Osa-5-n5-Oy9"
      },
      "source": [
        ""
      ],
      "execution_count": null,
      "outputs": []
    },
    {
      "cell_type": "markdown",
      "metadata": {
        "id": "MQE8zJJScBDl"
      },
      "source": [
        "## Showing accuracy for all of the models and generate metrics"
      ]
    },
    {
      "cell_type": "code",
      "metadata": {
        "colab": {
          "base_uri": "https://localhost:8080/",
          "height": 138
        },
        "id": "Osk1sJYuPT68",
        "outputId": "b87e2eab-dae6-4f33-86be-f9855e8a1777"
      },
      "source": [
        "# Compare Several models according to their Accuracies\n",
        "Model_Comparison = pd.DataFrame({\n",
        "    'Model': ['Logistic Regression', 'Decision Tree', 'Random Forest'],\n",
        "    'Accuracy Score %': [logmodel_accuracy, dt_accuracy, rf_accuracy]})\n",
        "Model_Comparison_df = Model_Comparison.sort_values(by='Accuracy Score %', ascending=False)\n",
        "Model_Comparison_df = Model_Comparison_df.set_index('Accuracy Score %')\n",
        "Model_Comparison_df.reset_index()"
      ],
      "execution_count": null,
      "outputs": [
        {
          "output_type": "execute_result",
          "data": {
            "text/html": [
              "<div>\n",
              "<style scoped>\n",
              "    .dataframe tbody tr th:only-of-type {\n",
              "        vertical-align: middle;\n",
              "    }\n",
              "\n",
              "    .dataframe tbody tr th {\n",
              "        vertical-align: top;\n",
              "    }\n",
              "\n",
              "    .dataframe thead th {\n",
              "        text-align: right;\n",
              "    }\n",
              "</style>\n",
              "<table border=\"1\" class=\"dataframe\">\n",
              "  <thead>\n",
              "    <tr style=\"text-align: right;\">\n",
              "      <th></th>\n",
              "      <th>Accuracy Score %</th>\n",
              "      <th>Model</th>\n",
              "    </tr>\n",
              "  </thead>\n",
              "  <tbody>\n",
              "    <tr>\n",
              "      <th>0</th>\n",
              "      <td>93.94</td>\n",
              "      <td>Decision Tree</td>\n",
              "    </tr>\n",
              "    <tr>\n",
              "      <th>1</th>\n",
              "      <td>90.91</td>\n",
              "      <td>Random Forest</td>\n",
              "    </tr>\n",
              "    <tr>\n",
              "      <th>2</th>\n",
              "      <td>81.82</td>\n",
              "      <td>Logistic Regression</td>\n",
              "    </tr>\n",
              "  </tbody>\n",
              "</table>\n",
              "</div>"
            ],
            "text/plain": [
              "   Accuracy Score %                Model\n",
              "0             93.94        Decision Tree\n",
              "1             90.91        Random Forest\n",
              "2             81.82  Logistic Regression"
            ]
          },
          "metadata": {
            "tags": []
          },
          "execution_count": 312
        }
      ]
    },
    {
      "cell_type": "code",
      "metadata": {
        "colab": {
          "base_uri": "https://localhost:8080/"
        },
        "id": "6fGdesCHPYBs",
        "outputId": "e201e1a9-ff2b-4759-e95e-735ac29fc816"
      },
      "source": [
        "# Generate confusion matrix for Decision Tree as it has maximum Accuracy\n",
        "conf_mat_dtmodel = confusion_matrix(y_test, dt_pred)\n",
        "conf_mat_dtmodel"
      ],
      "execution_count": null,
      "outputs": [
        {
          "output_type": "execute_result",
          "data": {
            "text/plain": [
              "array([[19,  2],\n",
              "       [ 0, 12]])"
            ]
          },
          "metadata": {
            "tags": []
          },
          "execution_count": 309
        }
      ]
    },
    {
      "cell_type": "code",
      "metadata": {
        "colab": {
          "base_uri": "https://localhost:8080/"
        },
        "id": "AVygZ82B1y6b",
        "outputId": "068d03d7-2d9c-4710-8387-a1fc9c419a44"
      },
      "source": [
        "# Generate classification report for Decision Tree\n",
        "print(classification_report(y_test, dt_pred))"
      ],
      "execution_count": null,
      "outputs": [
        {
          "output_type": "stream",
          "text": [
            "              precision    recall  f1-score   support\n",
            "\n",
            "           0       1.00      0.90      0.95        21\n",
            "           1       0.86      1.00      0.92        12\n",
            "\n",
            "    accuracy                           0.94        33\n",
            "   macro avg       0.93      0.95      0.94        33\n",
            "weighted avg       0.95      0.94      0.94        33\n",
            "\n"
          ],
          "name": "stdout"
        }
      ]
    },
    {
      "cell_type": "markdown",
      "metadata": {
        "id": "zyIRp8JUcVxg"
      },
      "source": [
        "So, from the above report we can see that Decision Forest Classification Model not only has highest accuracy, but also has very good overall performance."
      ]
    },
    {
      "cell_type": "code",
      "metadata": {
        "id": "3Cn5scdx-isi"
      },
      "source": [
        ""
      ],
      "execution_count": null,
      "outputs": []
    },
    {
      "cell_type": "markdown",
      "metadata": {
        "id": "_yxe_QJ9cV55"
      },
      "source": [
        "##Analyzing the dataset with probability of Nomination prediction"
      ]
    },
    {
      "cell_type": "code",
      "metadata": {
        "colab": {
          "base_uri": "https://localhost:8080/",
          "height": 198
        },
        "id": "9qGgwaYGsjiF",
        "outputId": "54d90d4c-b393-4da6-fec6-5597f3144044"
      },
      "source": [
        "df2 = data_res\n",
        "df2['Probability_of_Nomination'] = dtmodel.predict_proba(Xsp[X_test.columns])[:,1]\n",
        "df2.head()"
      ],
      "execution_count": null,
      "outputs": [
        {
          "output_type": "execute_result",
          "data": {
            "text/html": [
              "<div>\n",
              "<style scoped>\n",
              "    .dataframe tbody tr th:only-of-type {\n",
              "        vertical-align: middle;\n",
              "    }\n",
              "\n",
              "    .dataframe tbody tr th {\n",
              "        vertical-align: top;\n",
              "    }\n",
              "\n",
              "    .dataframe thead th {\n",
              "        text-align: right;\n",
              "    }\n",
              "</style>\n",
              "<table border=\"1\" class=\"dataframe\">\n",
              "  <thead>\n",
              "    <tr style=\"text-align: right;\">\n",
              "      <th></th>\n",
              "      <th>Opening_weekend_North_America</th>\n",
              "      <th>North_America</th>\n",
              "      <th>Worldwide</th>\n",
              "      <th>Rotten_Tomatoes</th>\n",
              "      <th>Comics</th>\n",
              "      <th>Budget</th>\n",
              "      <th>Oscar_Nomination</th>\n",
              "      <th>Probability_of_Nomination</th>\n",
              "    </tr>\n",
              "  </thead>\n",
              "  <tbody>\n",
              "    <tr>\n",
              "      <th>0</th>\n",
              "      <td>6535784.0</td>\n",
              "      <td>134218018.0</td>\n",
              "      <td>300218018.0</td>\n",
              "      <td>94.0</td>\n",
              "      <td>1.0</td>\n",
              "      <td>55000000.0</td>\n",
              "      <td>1</td>\n",
              "      <td>1.0</td>\n",
              "    </tr>\n",
              "    <tr>\n",
              "      <th>1</th>\n",
              "      <td>14100523.0</td>\n",
              "      <td>108185706.0</td>\n",
              "      <td>108185706.0</td>\n",
              "      <td>86.0</td>\n",
              "      <td>1.0</td>\n",
              "      <td>54000000.0</td>\n",
              "      <td>0</td>\n",
              "      <td>0.0</td>\n",
              "    </tr>\n",
              "    <tr>\n",
              "      <th>2</th>\n",
              "      <td>13352357.0</td>\n",
              "      <td>59950623.0</td>\n",
              "      <td>59950623.0</td>\n",
              "      <td>29.0</td>\n",
              "      <td>1.0</td>\n",
              "      <td>39000000.0</td>\n",
              "      <td>0</td>\n",
              "      <td>0.0</td>\n",
              "    </tr>\n",
              "    <tr>\n",
              "      <th>3</th>\n",
              "      <td>5738249.0</td>\n",
              "      <td>14296438.0</td>\n",
              "      <td>14296438.0</td>\n",
              "      <td>10.0</td>\n",
              "      <td>1.0</td>\n",
              "      <td>35000000.0</td>\n",
              "      <td>0</td>\n",
              "      <td>0.0</td>\n",
              "    </tr>\n",
              "    <tr>\n",
              "      <th>4</th>\n",
              "      <td>5070136.0</td>\n",
              "      <td>16295774.0</td>\n",
              "      <td>37962774.0</td>\n",
              "      <td>15.0</td>\n",
              "      <td>0.0</td>\n",
              "      <td>37000000.0</td>\n",
              "      <td>0</td>\n",
              "      <td>0.0</td>\n",
              "    </tr>\n",
              "  </tbody>\n",
              "</table>\n",
              "</div>"
            ],
            "text/plain": [
              "   Opening_weekend_North_America  ...  Probability_of_Nomination\n",
              "0                      6535784.0  ...                        1.0\n",
              "1                     14100523.0  ...                        0.0\n",
              "2                     13352357.0  ...                        0.0\n",
              "3                      5738249.0  ...                        0.0\n",
              "4                      5070136.0  ...                        0.0\n",
              "\n",
              "[5 rows x 8 columns]"
            ]
          },
          "metadata": {
            "tags": []
          },
          "execution_count": 329
        }
      ]
    },
    {
      "cell_type": "code",
      "metadata": {
        "colab": {
          "base_uri": "https://localhost:8080/",
          "height": 228
        },
        "id": "vngLNVvtsjko",
        "outputId": "f33526d5-dd21-480d-92f8-0c11c5cbe9be"
      },
      "source": [
        "df3 = df2[df2.Rotten_Tomatoes >= 90]\n",
        "df4 = df3[df3.Probability_of_Nomination == 0]\n",
        "df4"
      ],
      "execution_count": null,
      "outputs": [
        {
          "output_type": "execute_result",
          "data": {
            "text/html": [
              "<div>\n",
              "<style scoped>\n",
              "    .dataframe tbody tr th:only-of-type {\n",
              "        vertical-align: middle;\n",
              "    }\n",
              "\n",
              "    .dataframe tbody tr th {\n",
              "        vertical-align: top;\n",
              "    }\n",
              "\n",
              "    .dataframe thead th {\n",
              "        text-align: right;\n",
              "    }\n",
              "</style>\n",
              "<table border=\"1\" class=\"dataframe\">\n",
              "  <thead>\n",
              "    <tr style=\"text-align: right;\">\n",
              "      <th></th>\n",
              "      <th>Opening_weekend_North_America</th>\n",
              "      <th>North_America</th>\n",
              "      <th>Worldwide</th>\n",
              "      <th>Rotten_Tomatoes</th>\n",
              "      <th>Comics</th>\n",
              "      <th>Budget</th>\n",
              "      <th>Oscar_Nomination</th>\n",
              "      <th>Probability_of_Nomination</th>\n",
              "    </tr>\n",
              "  </thead>\n",
              "  <tbody>\n",
              "    <tr>\n",
              "      <th>56</th>\n",
              "      <td>179139142.0</td>\n",
              "      <td>408084349.0</td>\n",
              "      <td>1.153304e+09</td>\n",
              "      <td>91.0</td>\n",
              "      <td>0.0</td>\n",
              "      <td>250000000.0</td>\n",
              "      <td>0</td>\n",
              "      <td>0.0</td>\n",
              "    </tr>\n",
              "    <tr>\n",
              "      <th>60</th>\n",
              "      <td>103251471.0</td>\n",
              "      <td>412563408.0</td>\n",
              "      <td>8.218470e+08</td>\n",
              "      <td>93.0</td>\n",
              "      <td>1.0</td>\n",
              "      <td>149000000.0</td>\n",
              "      <td>0</td>\n",
              "      <td>0.0</td>\n",
              "    </tr>\n",
              "    <tr>\n",
              "      <th>63</th>\n",
              "      <td>122744989.0</td>\n",
              "      <td>315058289.0</td>\n",
              "      <td>8.539771e+08</td>\n",
              "      <td>93.0</td>\n",
              "      <td>0.0</td>\n",
              "      <td>180000000.0</td>\n",
              "      <td>0</td>\n",
              "      <td>0.0</td>\n",
              "    </tr>\n",
              "    <tr>\n",
              "      <th>64</th>\n",
              "      <td>117027503.0</td>\n",
              "      <td>334201140.0</td>\n",
              "      <td>8.801669e+08</td>\n",
              "      <td>92.0</td>\n",
              "      <td>0.0</td>\n",
              "      <td>175000000.0</td>\n",
              "      <td>0</td>\n",
              "      <td>0.0</td>\n",
              "    </tr>\n",
              "    <tr>\n",
              "      <th>75</th>\n",
              "      <td>53505326.0</td>\n",
              "      <td>140371656.0</td>\n",
              "      <td>3.659717e+08</td>\n",
              "      <td>90.0</td>\n",
              "      <td>1.0</td>\n",
              "      <td>100000000.0</td>\n",
              "      <td>0</td>\n",
              "      <td>0.0</td>\n",
              "    </tr>\n",
              "    <tr>\n",
              "      <th>76</th>\n",
              "      <td>92579212.0</td>\n",
              "      <td>390532085.0</td>\n",
              "      <td>1.131928e+09</td>\n",
              "      <td>90.0</td>\n",
              "      <td>0.0</td>\n",
              "      <td>160000000.0</td>\n",
              "      <td>0</td>\n",
              "      <td>0.0</td>\n",
              "    </tr>\n",
              "  </tbody>\n",
              "</table>\n",
              "</div>"
            ],
            "text/plain": [
              "    Opening_weekend_North_America  ...  Probability_of_Nomination\n",
              "56                    179139142.0  ...                        0.0\n",
              "60                    103251471.0  ...                        0.0\n",
              "63                    122744989.0  ...                        0.0\n",
              "64                    117027503.0  ...                        0.0\n",
              "75                     53505326.0  ...                        0.0\n",
              "76                     92579212.0  ...                        0.0\n",
              "\n",
              "[6 rows x 8 columns]"
            ]
          },
          "metadata": {
            "tags": []
          },
          "execution_count": 374
        }
      ]
    },
    {
      "cell_type": "code",
      "metadata": {
        "colab": {
          "base_uri": "https://localhost:8080/",
          "height": 858
        },
        "id": "HCzvk2elxugg",
        "outputId": "fa4a7796-2449-4ddc-b453-01a6a6621394"
      },
      "source": [
        "df5 = df2[df2.Rotten_Tomatoes >= 90]\n",
        "df6 = df5[df5.Probability_of_Nomination == 1]\n",
        "df6"
      ],
      "execution_count": null,
      "outputs": [
        {
          "output_type": "execute_result",
          "data": {
            "text/html": [
              "<div>\n",
              "<style scoped>\n",
              "    .dataframe tbody tr th:only-of-type {\n",
              "        vertical-align: middle;\n",
              "    }\n",
              "\n",
              "    .dataframe tbody tr th {\n",
              "        vertical-align: top;\n",
              "    }\n",
              "\n",
              "    .dataframe thead th {\n",
              "        text-align: right;\n",
              "    }\n",
              "</style>\n",
              "<table border=\"1\" class=\"dataframe\">\n",
              "  <thead>\n",
              "    <tr style=\"text-align: right;\">\n",
              "      <th></th>\n",
              "      <th>Opening_weekend_North_America</th>\n",
              "      <th>North_America</th>\n",
              "      <th>Worldwide</th>\n",
              "      <th>Rotten_Tomatoes</th>\n",
              "      <th>Comics</th>\n",
              "      <th>Budget</th>\n",
              "      <th>Oscar_Nomination</th>\n",
              "      <th>Probability_of_Nomination</th>\n",
              "    </tr>\n",
              "  </thead>\n",
              "  <tbody>\n",
              "    <tr>\n",
              "      <th>0</th>\n",
              "      <td>6535784.0</td>\n",
              "      <td>134218018.0</td>\n",
              "      <td>3.002180e+08</td>\n",
              "      <td>94.0</td>\n",
              "      <td>1.0</td>\n",
              "      <td>55000000.0</td>\n",
              "      <td>1</td>\n",
              "      <td>1.0</td>\n",
              "    </tr>\n",
              "    <tr>\n",
              "      <th>12</th>\n",
              "      <td>114844116.0</td>\n",
              "      <td>403706375.0</td>\n",
              "      <td>8.217086e+08</td>\n",
              "      <td>90.0</td>\n",
              "      <td>0.0</td>\n",
              "      <td>139000000.0</td>\n",
              "      <td>1</td>\n",
              "      <td>1.0</td>\n",
              "    </tr>\n",
              "    <tr>\n",
              "      <th>19</th>\n",
              "      <td>88156227.0</td>\n",
              "      <td>373585825.0</td>\n",
              "      <td>7.889765e+08</td>\n",
              "      <td>93.0</td>\n",
              "      <td>0.0</td>\n",
              "      <td>200000000.0</td>\n",
              "      <td>1</td>\n",
              "      <td>1.0</td>\n",
              "    </tr>\n",
              "    <tr>\n",
              "      <th>29</th>\n",
              "      <td>158411483.0</td>\n",
              "      <td>535234033.0</td>\n",
              "      <td>1.004934e+09</td>\n",
              "      <td>94.0</td>\n",
              "      <td>1.0</td>\n",
              "      <td>185000000.0</td>\n",
              "      <td>1</td>\n",
              "      <td>1.0</td>\n",
              "    </tr>\n",
              "    <tr>\n",
              "      <th>30</th>\n",
              "      <td>98618668.0</td>\n",
              "      <td>318412101.0</td>\n",
              "      <td>5.851742e+08</td>\n",
              "      <td>94.0</td>\n",
              "      <td>0.0</td>\n",
              "      <td>140000000.0</td>\n",
              "      <td>1</td>\n",
              "      <td>1.0</td>\n",
              "    </tr>\n",
              "    <tr>\n",
              "      <th>42</th>\n",
              "      <td>207438708.0</td>\n",
              "      <td>623357910.0</td>\n",
              "      <td>1.518813e+09</td>\n",
              "      <td>92.0</td>\n",
              "      <td>0.0</td>\n",
              "      <td>220000000.0</td>\n",
              "      <td>1</td>\n",
              "      <td>1.0</td>\n",
              "    </tr>\n",
              "    <tr>\n",
              "      <th>48</th>\n",
              "      <td>90823660.0</td>\n",
              "      <td>233921534.0</td>\n",
              "      <td>7.478628e+08</td>\n",
              "      <td>90.0</td>\n",
              "      <td>0.0</td>\n",
              "      <td>200000000.0</td>\n",
              "      <td>1</td>\n",
              "      <td>1.0</td>\n",
              "    </tr>\n",
              "    <tr>\n",
              "      <th>49</th>\n",
              "      <td>94320883.0</td>\n",
              "      <td>333176600.0</td>\n",
              "      <td>7.733286e+08</td>\n",
              "      <td>91.0</td>\n",
              "      <td>0.0</td>\n",
              "      <td>170000000.0</td>\n",
              "      <td>1</td>\n",
              "      <td>1.0</td>\n",
              "    </tr>\n",
              "    <tr>\n",
              "      <th>51</th>\n",
              "      <td>95023721.0</td>\n",
              "      <td>259766572.0</td>\n",
              "      <td>7.142643e+08</td>\n",
              "      <td>90.0</td>\n",
              "      <td>0.0</td>\n",
              "      <td>170000000.0</td>\n",
              "      <td>1</td>\n",
              "      <td>1.0</td>\n",
              "    </tr>\n",
              "    <tr>\n",
              "      <th>62</th>\n",
              "      <td>88411916.0</td>\n",
              "      <td>226277068.0</td>\n",
              "      <td>6.167956e+08</td>\n",
              "      <td>93.0</td>\n",
              "      <td>0.0</td>\n",
              "      <td>97000000.0</td>\n",
              "      <td>1</td>\n",
              "      <td>1.0</td>\n",
              "    </tr>\n",
              "    <tr>\n",
              "      <th>70</th>\n",
              "      <td>202003951.0</td>\n",
              "      <td>700059566.0</td>\n",
              "      <td>1.346913e+09</td>\n",
              "      <td>97.0</td>\n",
              "      <td>0.0</td>\n",
              "      <td>200000000.0</td>\n",
              "      <td>1</td>\n",
              "      <td>1.0</td>\n",
              "    </tr>\n",
              "    <tr>\n",
              "      <th>73</th>\n",
              "      <td>357115007.0</td>\n",
              "      <td>858373000.0</td>\n",
              "      <td>2.797801e+09</td>\n",
              "      <td>94.0</td>\n",
              "      <td>0.0</td>\n",
              "      <td>356000000.0</td>\n",
              "      <td>1</td>\n",
              "      <td>1.0</td>\n",
              "    </tr>\n",
              "    <tr>\n",
              "      <th>80</th>\n",
              "      <td>202003951.0</td>\n",
              "      <td>700059566.0</td>\n",
              "      <td>1.346913e+09</td>\n",
              "      <td>97.0</td>\n",
              "      <td>0.0</td>\n",
              "      <td>200000000.0</td>\n",
              "      <td>1</td>\n",
              "      <td>1.0</td>\n",
              "    </tr>\n",
              "    <tr>\n",
              "      <th>81</th>\n",
              "      <td>88411916.0</td>\n",
              "      <td>226277068.0</td>\n",
              "      <td>6.167956e+08</td>\n",
              "      <td>93.0</td>\n",
              "      <td>0.0</td>\n",
              "      <td>97000000.0</td>\n",
              "      <td>1</td>\n",
              "      <td>1.0</td>\n",
              "    </tr>\n",
              "    <tr>\n",
              "      <th>84</th>\n",
              "      <td>88411916.0</td>\n",
              "      <td>226277068.0</td>\n",
              "      <td>6.167956e+08</td>\n",
              "      <td>93.0</td>\n",
              "      <td>0.0</td>\n",
              "      <td>97000000.0</td>\n",
              "      <td>1</td>\n",
              "      <td>1.0</td>\n",
              "    </tr>\n",
              "    <tr>\n",
              "      <th>89</th>\n",
              "      <td>202003951.0</td>\n",
              "      <td>700059566.0</td>\n",
              "      <td>1.346913e+09</td>\n",
              "      <td>97.0</td>\n",
              "      <td>0.0</td>\n",
              "      <td>200000000.0</td>\n",
              "      <td>1</td>\n",
              "      <td>1.0</td>\n",
              "    </tr>\n",
              "    <tr>\n",
              "      <th>91</th>\n",
              "      <td>95023721.0</td>\n",
              "      <td>259766572.0</td>\n",
              "      <td>7.142643e+08</td>\n",
              "      <td>90.0</td>\n",
              "      <td>0.0</td>\n",
              "      <td>170000000.0</td>\n",
              "      <td>1</td>\n",
              "      <td>1.0</td>\n",
              "    </tr>\n",
              "    <tr>\n",
              "      <th>93</th>\n",
              "      <td>158411483.0</td>\n",
              "      <td>535234033.0</td>\n",
              "      <td>1.004934e+09</td>\n",
              "      <td>94.0</td>\n",
              "      <td>1.0</td>\n",
              "      <td>185000000.0</td>\n",
              "      <td>1</td>\n",
              "      <td>1.0</td>\n",
              "    </tr>\n",
              "    <tr>\n",
              "      <th>95</th>\n",
              "      <td>158411483.0</td>\n",
              "      <td>535234033.0</td>\n",
              "      <td>1.004934e+09</td>\n",
              "      <td>94.0</td>\n",
              "      <td>1.0</td>\n",
              "      <td>185000000.0</td>\n",
              "      <td>1</td>\n",
              "      <td>1.0</td>\n",
              "    </tr>\n",
              "    <tr>\n",
              "      <th>96</th>\n",
              "      <td>114844116.0</td>\n",
              "      <td>403706375.0</td>\n",
              "      <td>8.217086e+08</td>\n",
              "      <td>90.0</td>\n",
              "      <td>0.0</td>\n",
              "      <td>139000000.0</td>\n",
              "      <td>1</td>\n",
              "      <td>1.0</td>\n",
              "    </tr>\n",
              "    <tr>\n",
              "      <th>97</th>\n",
              "      <td>202003951.0</td>\n",
              "      <td>700059566.0</td>\n",
              "      <td>1.346913e+09</td>\n",
              "      <td>97.0</td>\n",
              "      <td>0.0</td>\n",
              "      <td>200000000.0</td>\n",
              "      <td>1</td>\n",
              "      <td>1.0</td>\n",
              "    </tr>\n",
              "    <tr>\n",
              "      <th>100</th>\n",
              "      <td>114844116.0</td>\n",
              "      <td>403706375.0</td>\n",
              "      <td>8.217086e+08</td>\n",
              "      <td>90.0</td>\n",
              "      <td>0.0</td>\n",
              "      <td>139000000.0</td>\n",
              "      <td>1</td>\n",
              "      <td>1.0</td>\n",
              "    </tr>\n",
              "    <tr>\n",
              "      <th>101</th>\n",
              "      <td>158411483.0</td>\n",
              "      <td>535234033.0</td>\n",
              "      <td>1.004934e+09</td>\n",
              "      <td>94.0</td>\n",
              "      <td>1.0</td>\n",
              "      <td>185000000.0</td>\n",
              "      <td>1</td>\n",
              "      <td>1.0</td>\n",
              "    </tr>\n",
              "    <tr>\n",
              "      <th>102</th>\n",
              "      <td>202003951.0</td>\n",
              "      <td>700059566.0</td>\n",
              "      <td>1.346913e+09</td>\n",
              "      <td>97.0</td>\n",
              "      <td>0.0</td>\n",
              "      <td>200000000.0</td>\n",
              "      <td>1</td>\n",
              "      <td>1.0</td>\n",
              "    </tr>\n",
              "    <tr>\n",
              "      <th>104</th>\n",
              "      <td>88411916.0</td>\n",
              "      <td>226277068.0</td>\n",
              "      <td>6.167956e+08</td>\n",
              "      <td>93.0</td>\n",
              "      <td>0.0</td>\n",
              "      <td>97000000.0</td>\n",
              "      <td>1</td>\n",
              "      <td>1.0</td>\n",
              "    </tr>\n",
              "    <tr>\n",
              "      <th>105</th>\n",
              "      <td>88411916.0</td>\n",
              "      <td>226277068.0</td>\n",
              "      <td>6.167956e+08</td>\n",
              "      <td>93.0</td>\n",
              "      <td>0.0</td>\n",
              "      <td>97000000.0</td>\n",
              "      <td>1</td>\n",
              "      <td>1.0</td>\n",
              "    </tr>\n",
              "    <tr>\n",
              "      <th>107</th>\n",
              "      <td>114844116.0</td>\n",
              "      <td>403706375.0</td>\n",
              "      <td>8.217086e+08</td>\n",
              "      <td>90.0</td>\n",
              "      <td>0.0</td>\n",
              "      <td>139000000.0</td>\n",
              "      <td>1</td>\n",
              "      <td>1.0</td>\n",
              "    </tr>\n",
              "  </tbody>\n",
              "</table>\n",
              "</div>"
            ],
            "text/plain": [
              "     Opening_weekend_North_America  ...  Probability_of_Nomination\n",
              "0                        6535784.0  ...                        1.0\n",
              "12                     114844116.0  ...                        1.0\n",
              "19                      88156227.0  ...                        1.0\n",
              "29                     158411483.0  ...                        1.0\n",
              "30                      98618668.0  ...                        1.0\n",
              "42                     207438708.0  ...                        1.0\n",
              "48                      90823660.0  ...                        1.0\n",
              "49                      94320883.0  ...                        1.0\n",
              "51                      95023721.0  ...                        1.0\n",
              "62                      88411916.0  ...                        1.0\n",
              "70                     202003951.0  ...                        1.0\n",
              "73                     357115007.0  ...                        1.0\n",
              "80                     202003951.0  ...                        1.0\n",
              "81                      88411916.0  ...                        1.0\n",
              "84                      88411916.0  ...                        1.0\n",
              "89                     202003951.0  ...                        1.0\n",
              "91                      95023721.0  ...                        1.0\n",
              "93                     158411483.0  ...                        1.0\n",
              "95                     158411483.0  ...                        1.0\n",
              "96                     114844116.0  ...                        1.0\n",
              "97                     202003951.0  ...                        1.0\n",
              "100                    114844116.0  ...                        1.0\n",
              "101                    158411483.0  ...                        1.0\n",
              "102                    202003951.0  ...                        1.0\n",
              "104                     88411916.0  ...                        1.0\n",
              "105                     88411916.0  ...                        1.0\n",
              "107                    114844116.0  ...                        1.0\n",
              "\n",
              "[27 rows x 8 columns]"
            ]
          },
          "metadata": {
            "tags": []
          },
          "execution_count": 366
        }
      ]
    },
    {
      "cell_type": "code",
      "metadata": {
        "colab": {
          "base_uri": "https://localhost:8080/"
        },
        "id": "zQuAkkk0_iHR",
        "outputId": "e55f52c8-e330-4d85-8f8b-f2c827433488"
      },
      "source": [
        "print(\"High rating with low probability count: \", len(df4))\n",
        "print(\"High rating with high probability count: \", len(df5))"
      ],
      "execution_count": null,
      "outputs": [
        {
          "output_type": "stream",
          "text": [
            "High rating with low probability count:  6\n",
            "High rating with high probability count:  33\n"
          ],
          "name": "stdout"
        }
      ]
    },
    {
      "cell_type": "markdown",
      "metadata": {
        "id": "x39XBQV7BqI2"
      },
      "source": [
        "I have chosen the Rotten Tomatoes Rating as high as 90%. With the prediction that my model made, it seems that high rated films have much high chance to get nominated for the Oscars."
      ]
    },
    {
      "cell_type": "code",
      "metadata": {
        "colab": {
          "base_uri": "https://localhost:8080/"
        },
        "id": "zC9iLwEqAt9E",
        "outputId": "39c27a3c-494b-444b-eb5c-2186befe4629"
      },
      "source": [
        "print(\"Lowest budget high rated film with no nomination: \", df4['Budget'].min())\n",
        "print(\"Lowest budget high rated film with at least one nomination:\", df5['Budget'].min())"
      ],
      "execution_count": null,
      "outputs": [
        {
          "output_type": "stream",
          "text": [
            "Lowest budget high rated film with no nomination:  100000000.0\n",
            "Lowest budget high rated film with at least one nomination: 55000000.0\n"
          ],
          "name": "stdout"
        }
      ]
    },
    {
      "cell_type": "markdown",
      "metadata": {
        "id": "d2ZFehYIDYuH"
      },
      "source": [
        "Interestingly, the Budget does not have anything to do with the high ratings. It has been found that high rated films can have lower budgets than the low rated films."
      ]
    },
    {
      "cell_type": "code",
      "metadata": {
        "id": "UJxX2O4-DG2A"
      },
      "source": [
        ""
      ],
      "execution_count": null,
      "outputs": []
    },
    {
      "cell_type": "markdown",
      "metadata": {
        "id": "jqwVEt9yEvP9"
      },
      "source": [
        "## Conclusion"
      ]
    },
    {
      "cell_type": "markdown",
      "metadata": {
        "id": "zhHVgMy5Ex8w"
      },
      "source": [
        "Based on the goal of the dataset that I have gathered, the overall performance of my model was satisfactory. I was able to predict and analyze my desired goal. However, judging from the features from this dataset for a film to nominate for an Oscar is definitely not an easy job. A film must meet the high quality in at least considerable amount of features to get shortlisted for Oscar nominations. A lot of research will be needed to gather more data and predict many more things!"
      ]
    },
    {
      "cell_type": "code",
      "metadata": {
        "id": "ieshHtbaExHV"
      },
      "source": [
        ""
      ],
      "execution_count": null,
      "outputs": []
    }
  ]
}